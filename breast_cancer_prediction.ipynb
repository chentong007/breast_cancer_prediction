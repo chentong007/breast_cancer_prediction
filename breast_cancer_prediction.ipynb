{
 "cells": [
  {
   "cell_type": "code",
   "execution_count": 21,
   "metadata": {},
   "outputs": [],
   "source": [
    "import numpy as np\n",
    "from numpy import loadtxt\n",
    "from keras.models import Sequential\n",
    "from keras.layers import Dense"
   ]
  },
  {
   "cell_type": "code",
   "execution_count": 22,
   "metadata": {},
   "outputs": [],
   "source": [
    "dataset = loadtxt('D_bc_tr.csv', delimiter = ',')\n",
    "X = dataset[:,0:30] #assign train dataset\n",
    "Y = dataset[:,30] #assign labels\n",
    "mean = np.mean(X, axis = 0, keepdims = True) #calculate mean along vertical axis\n",
    "var = np.var(X, axis = 0) #calculate variance\n",
    "x_train = (X - mean)/var #normalizing dataset"
   ]
  },
  {
   "cell_type": "code",
   "execution_count": 23,
   "metadata": {},
   "outputs": [],
   "source": [
    "testset = loadtxt('D_bc_te.csv', delimiter = ',') #normalizing test dataset\n",
    "test = testset[:,0:30]\n",
    "test_label = testset[:,30]\n",
    "mean_test = np.mean(test, axis = 0, keepdims = True)\n",
    "var_test = np.var(test, axis = 0)\n",
    "x_test = (test - mean_test)/var_test"
   ]
  },
  {
   "cell_type": "code",
   "execution_count": 24,
   "metadata": {},
   "outputs": [],
   "source": [
    "model = Sequential()\n",
    "model.add(Dense(8, input_dim = 30, activation = 'relu')) #first hidden layer has 8 neurons\n",
    "model.add(Dense(4, activation = 'relu')) #second hidden layer has 4 neurons\n",
    "model.add(Dense(1, activation = 'sigmoid')) #output layer"
   ]
  },
  {
   "cell_type": "code",
   "execution_count": 25,
   "metadata": {},
   "outputs": [],
   "source": [
    "model.compile(loss = 'binary_crossentropy',optimizer = 'rmsprop',metrics = ['accuracy'])"
   ]
  },
  {
   "cell_type": "code",
   "execution_count": 26,
   "metadata": {},
   "outputs": [
    {
     "name": "stdout",
     "output_type": "stream",
     "text": [
      "Epoch 1/60\n",
      "480/480 [==============================] - 0s 506us/step - loss: 4.3591 - acc: 0.5042\n",
      "Epoch 2/60\n",
      "480/480 [==============================] - 0s 98us/step - loss: 3.4738 - acc: 0.5688\n",
      "Epoch 3/60\n",
      "480/480 [==============================] - 0s 102us/step - loss: 3.1185 - acc: 0.6167\n",
      "Epoch 4/60\n",
      "480/480 [==============================] - 0s 98us/step - loss: 2.8570 - acc: 0.6563\n",
      "Epoch 5/60\n",
      "480/480 [==============================] - 0s 96us/step - loss: 2.5816 - acc: 0.6917\n",
      "Epoch 6/60\n",
      "480/480 [==============================] - 0s 104us/step - loss: 2.3844 - acc: 0.7083\n",
      "Epoch 7/60\n",
      "480/480 [==============================] - 0s 104us/step - loss: 2.1481 - acc: 0.7229\n",
      "Epoch 8/60\n",
      "480/480 [==============================] - 0s 102us/step - loss: 1.7877 - acc: 0.7354\n",
      "Epoch 9/60\n",
      "480/480 [==============================] - 0s 100us/step - loss: 1.6612 - acc: 0.7604\n",
      "Epoch 10/60\n",
      "480/480 [==============================] - 0s 100us/step - loss: 1.5396 - acc: 0.7583\n",
      "Epoch 11/60\n",
      "480/480 [==============================] - 0s 100us/step - loss: 1.4478 - acc: 0.7625\n",
      "Epoch 12/60\n",
      "480/480 [==============================] - 0s 94us/step - loss: 1.3841 - acc: 0.7500\n",
      "Epoch 13/60\n",
      "480/480 [==============================] - 0s 96us/step - loss: 1.3183 - acc: 0.7563\n",
      "Epoch 14/60\n",
      "480/480 [==============================] - 0s 98us/step - loss: 1.2645 - acc: 0.7750\n",
      "Epoch 15/60\n",
      "480/480 [==============================] - 0s 100us/step - loss: 1.2231 - acc: 0.7812\n",
      "Epoch 16/60\n",
      "480/480 [==============================] - 0s 96us/step - loss: 1.1828 - acc: 0.7917\n",
      "Epoch 17/60\n",
      "480/480 [==============================] - 0s 98us/step - loss: 1.1963 - acc: 0.7958\n",
      "Epoch 18/60\n",
      "480/480 [==============================] - 0s 100us/step - loss: 1.0531 - acc: 0.8021\n",
      "Epoch 19/60\n",
      "480/480 [==============================] - 0s 98us/step - loss: 0.9198 - acc: 0.8250\n",
      "Epoch 20/60\n",
      "480/480 [==============================] - 0s 98us/step - loss: 0.7779 - acc: 0.8313\n",
      "Epoch 21/60\n",
      "480/480 [==============================] - 0s 100us/step - loss: 0.6790 - acc: 0.8417\n",
      "Epoch 22/60\n",
      "480/480 [==============================] - 0s 102us/step - loss: 0.6196 - acc: 0.8437\n",
      "Epoch 23/60\n",
      "480/480 [==============================] - 0s 96us/step - loss: 0.5569 - acc: 0.8458\n",
      "Epoch 24/60\n",
      "480/480 [==============================] - 0s 100us/step - loss: 0.5190 - acc: 0.8542\n",
      "Epoch 25/60\n",
      "480/480 [==============================] - 0s 96us/step - loss: 0.4949 - acc: 0.8687\n",
      "Epoch 26/60\n",
      "480/480 [==============================] - 0s 100us/step - loss: 0.4677 - acc: 0.8708\n",
      "Epoch 27/60\n",
      "480/480 [==============================] - 0s 102us/step - loss: 0.4514 - acc: 0.8771\n",
      "Epoch 28/60\n",
      "480/480 [==============================] - 0s 104us/step - loss: 0.4451 - acc: 0.8812\n",
      "Epoch 29/60\n",
      "480/480 [==============================] - 0s 106us/step - loss: 0.4330 - acc: 0.8812\n",
      "Epoch 30/60\n",
      "480/480 [==============================] - 0s 108us/step - loss: 0.4090 - acc: 0.8875\n",
      "Epoch 31/60\n",
      "480/480 [==============================] - 0s 106us/step - loss: 0.4099 - acc: 0.8917\n",
      "Epoch 32/60\n",
      "480/480 [==============================] - 0s 104us/step - loss: 0.3964 - acc: 0.8958\n",
      "Epoch 33/60\n",
      "480/480 [==============================] - 0s 96us/step - loss: 0.3885 - acc: 0.9000\n",
      "Epoch 34/60\n",
      "480/480 [==============================] - 0s 100us/step - loss: 0.4119 - acc: 0.9000\n",
      "Epoch 35/60\n",
      "480/480 [==============================] - 0s 100us/step - loss: 0.3684 - acc: 0.9083\n",
      "Epoch 36/60\n",
      "480/480 [==============================] - 0s 102us/step - loss: 0.3547 - acc: 0.9167\n",
      "Epoch 37/60\n",
      "480/480 [==============================] - 0s 104us/step - loss: 0.3811 - acc: 0.9146\n",
      "Epoch 38/60\n",
      "480/480 [==============================] - 0s 100us/step - loss: 0.3710 - acc: 0.9167\n",
      "Epoch 39/60\n",
      "480/480 [==============================] - 0s 96us/step - loss: 0.3785 - acc: 0.9167\n",
      "Epoch 40/60\n",
      "480/480 [==============================] - 0s 96us/step - loss: 0.3648 - acc: 0.9167\n",
      "Epoch 41/60\n",
      "480/480 [==============================] - 0s 96us/step - loss: 0.3215 - acc: 0.9229\n",
      "Epoch 42/60\n",
      "480/480 [==============================] - 0s 102us/step - loss: 0.3469 - acc: 0.9187\n",
      "Epoch 43/60\n",
      "480/480 [==============================] - 0s 104us/step - loss: 0.3007 - acc: 0.9271\n",
      "Epoch 44/60\n",
      "480/480 [==============================] - 0s 98us/step - loss: 0.3166 - acc: 0.9271\n",
      "Epoch 45/60\n",
      "480/480 [==============================] - 0s 102us/step - loss: 0.3102 - acc: 0.9271\n",
      "Epoch 46/60\n",
      "480/480 [==============================] - 0s 102us/step - loss: 0.3078 - acc: 0.9229\n",
      "Epoch 47/60\n",
      "480/480 [==============================] - 0s 94us/step - loss: 0.3019 - acc: 0.9250\n",
      "Epoch 48/60\n",
      "480/480 [==============================] - 0s 100us/step - loss: 0.2850 - acc: 0.9292\n",
      "Epoch 49/60\n",
      "480/480 [==============================] - 0s 92us/step - loss: 0.3091 - acc: 0.9271\n",
      "Epoch 50/60\n",
      "480/480 [==============================] - 0s 94us/step - loss: 0.2937 - acc: 0.9292\n",
      "Epoch 51/60\n",
      "480/480 [==============================] - 0s 100us/step - loss: 0.2730 - acc: 0.9312\n",
      "Epoch 52/60\n",
      "480/480 [==============================] - 0s 102us/step - loss: 0.3086 - acc: 0.9312\n",
      "Epoch 53/60\n",
      "480/480 [==============================] - 0s 100us/step - loss: 0.2801 - acc: 0.9250\n",
      "Epoch 54/60\n",
      "480/480 [==============================] - 0s 96us/step - loss: 0.2915 - acc: 0.9312\n",
      "Epoch 55/60\n",
      "480/480 [==============================] - 0s 98us/step - loss: 0.2671 - acc: 0.9292\n",
      "Epoch 56/60\n",
      "480/480 [==============================] - 0s 102us/step - loss: 0.2678 - acc: 0.9312\n",
      "Epoch 57/60\n",
      "480/480 [==============================] - 0s 104us/step - loss: 0.2436 - acc: 0.9354\n",
      "Epoch 58/60\n",
      "480/480 [==============================] - 0s 104us/step - loss: 0.2659 - acc: 0.9333\n",
      "Epoch 59/60\n",
      "480/480 [==============================] - 0s 98us/step - loss: 0.2755 - acc: 0.9333\n",
      "Epoch 60/60\n",
      "480/480 [==============================] - 0s 98us/step - loss: 0.2422 - acc: 0.9354\n",
      "480/480 [==============================] - 0s 104us/step\n"
     ]
    }
   ],
   "source": [
    "model.fit(x_train, Y,epochs = 60, batch_size = 30) #60 iterations\n",
    "accuracy = model.evaluate(x_train, Y)"
   ]
  },
  {
   "cell_type": "code",
   "execution_count": 27,
   "metadata": {},
   "outputs": [
    {
     "name": "stdout",
     "output_type": "stream",
     "text": [
      "89/89 [==============================] - 0s 898us/step\n"
     ]
    },
    {
     "data": {
      "text/plain": [
       "(0.30650284351190754, 0.9438202247191011)"
      ]
     },
     "execution_count": 27,
     "metadata": {},
     "output_type": "execute_result"
    }
   ],
   "source": [
    "loss,acc = model.evaluate(x_test, test_label, batch_size = 1)\n",
    "loss,acc"
   ]
  },
  {
   "cell_type": "code",
   "execution_count": null,
   "metadata": {},
   "outputs": [],
   "source": []
  }
 ],
 "metadata": {
  "kernelspec": {
   "display_name": "Python 3",
   "language": "python",
   "name": "python3"
  },
  "language_info": {
   "codemirror_mode": {
    "name": "ipython",
    "version": 3
   },
   "file_extension": ".py",
   "mimetype": "text/x-python",
   "name": "python",
   "nbconvert_exporter": "python",
   "pygments_lexer": "ipython3",
   "version": "3.7.4"
  }
 },
 "nbformat": 4,
 "nbformat_minor": 2
}
